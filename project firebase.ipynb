{
 "cells": [
  {
   "cell_type": "code",
   "execution_count": 1,
   "metadata": {},
   "outputs": [
    {
     "name": "stdout",
     "output_type": "stream",
     "text": [
      "Requirement already satisfied: firebase in d:\\new folder (2)\\lib\\site-packages (3.0.1)\n",
      "Requirement already satisfied: requests in d:\\new folder (2)\\lib\\site-packages (from firebase) (2.24.0)\n",
      "Requirement already satisfied: urllib3!=1.25.0,!=1.25.1,<1.26,>=1.21.1 in d:\\new folder (2)\\lib\\site-packages (from requests->firebase) (1.25.9)\n",
      "Requirement already satisfied: idna<3,>=2.5 in d:\\new folder (2)\\lib\\site-packages (from requests->firebase) (2.10)\n",
      "Requirement already satisfied: certifi>=2017.4.17 in d:\\new folder (2)\\lib\\site-packages (from requests->firebase) (2020.6.20)\n",
      "Requirement already satisfied: chardet<4,>=3.0.2 in d:\\new folder (2)\\lib\\site-packages (from requests->firebase) (3.0.4)\n"
     ]
    }
   ],
   "source": [
    "!pip install firebase"
   ]
  },
  {
   "cell_type": "code",
   "execution_count": 2,
   "metadata": {},
   "outputs": [],
   "source": [
    "import firebase_admin"
   ]
  },
  {
   "cell_type": "code",
   "execution_count": 3,
   "metadata": {},
   "outputs": [],
   "source": [
    "from firebase_admin import credentials\n",
    "from firebase_admin import firestore"
   ]
  },
  {
   "cell_type": "code",
   "execution_count": 5,
   "metadata": {},
   "outputs": [
    {
     "data": {
      "text/plain": [
       "<firebase_admin.App at 0x4d27fd0>"
      ]
     },
     "execution_count": 5,
     "metadata": {},
     "output_type": "execute_result"
    }
   ],
   "source": [
    "cred = credentials.Certificate(\"my-python-a9c57-firebase-adminsdk-l59ru-ec5e5fd83e.json\")\n",
    "firebase_admin.initialize_app(cred)"
   ]
  },
  {
   "cell_type": "code",
   "execution_count": 12,
   "metadata": {},
   "outputs": [],
   "source": [
    "db = firestore.client()"
   ]
  },
  {
   "cell_type": "code",
   "execution_count": 13,
   "metadata": {},
   "outputs": [
    {
     "data": {
      "text/plain": [
       "update_time {\n",
       "  seconds: 1608384432\n",
       "  nanos: 342995000\n",
       "}"
      ]
     },
     "execution_count": 13,
     "metadata": {},
     "output_type": "execute_result"
    }
   ],
   "source": [
    "doc_ref = db.collection(u'users').document(u'abc')\n",
    "\n",
    "doc_ref.set({\n",
    "    u'first': u'Faiza',\n",
    "    u'last': u'Gokak',\n",
    "    u'born': 1997\n",
    "})"
   ]
  },
  {
   "cell_type": "code",
   "execution_count": 26,
   "metadata": {},
   "outputs": [],
   "source": [
    "def enterDataInDB():\n",
    "    doc_ref = db.collection(u'LetsUpgradeUsers').document()\n",
    "    \n",
    "    name = input(\"Enter Name - \")\n",
    "    lastName = input(\"Enter Last Name - \")\n",
    "    age = int(input(\"Enter Age - \"))\n",
    "    \n",
    "    dit = {}\n",
    "    dit[\"firstName\"] = name\n",
    "    dit[\"lastName\"] = lastName\n",
    "    dit[\"age\"] = age\n",
    "    \n",
    "    doc_ref.set(dit)"
   ]
  },
  {
   "cell_type": "code",
   "execution_count": 27,
   "metadata": {},
   "outputs": [
    {
     "name": "stdout",
     "output_type": "stream",
     "text": [
      "Enter Name - Arif\n",
      "Enter Last Name - Shaikh\n",
      "Enter Age - 120\n"
     ]
    }
   ],
   "source": [
    "enterDataInDB()"
   ]
  },
  {
   "cell_type": "code",
   "execution_count": 28,
   "metadata": {},
   "outputs": [
    {
     "name": "stdout",
     "output_type": "stream",
     "text": [
      "Enter Name - shahid\n",
      "Enter Last Name - Ali\n",
      "Enter Age - 26\n"
     ]
    }
   ],
   "source": [
    "enterDataInDB()"
   ]
  },
  {
   "cell_type": "code",
   "execution_count": 29,
   "metadata": {},
   "outputs": [
    {
     "name": "stdout",
     "output_type": "stream",
     "text": [
      "Enter Name - sabeeha\n",
      "Enter Last Name - shaikh\n",
      "Enter Age - 05\n"
     ]
    }
   ],
   "source": [
    "enterDataInDB()"
   ]
  },
  {
   "cell_type": "code",
   "execution_count": 37,
   "metadata": {},
   "outputs": [],
   "source": [
    "docs = db.collection(u'LetsUpgradeUsers').stream()"
   ]
  },
  {
   "cell_type": "code",
   "execution_count": 38,
   "metadata": {},
   "outputs": [
    {
     "name": "stdout",
     "output_type": "stream",
     "text": [
      "ID -  3Ven3ZA2QtsHiwec3XIc\n",
      "First Name -  Arif\n",
      "Last Name -  shaikh\n",
      "Age -  28\n",
      "--------------1\n",
      "--------------2\n",
      "ID -  7UwBkrwA6kb4dPiErInO\n",
      "First Name -  Arif\n",
      "Last Name -  lu\n",
      "Age -  90\n",
      "--------------1\n",
      "--------------2\n",
      "ID -  VBHoGQCHoDC7ReP6ygya\n",
      "First Name -  Arif\n",
      "Last Name -  lu\n",
      "Age -  90\n",
      "--------------1\n",
      "--------------2\n",
      "ID -  WPzCoW5chRXjzkNP1dhc\n",
      "First Name -  shahid\n",
      "Last Name -  Ali\n",
      "Age -  26\n",
      "--------------1\n",
      "--------------2\n",
      "ID -  mVGEZHiPqsnik20f0Puf\n",
      "First Name -  sabeeha\n",
      "Last Name -  shaikh\n",
      "Age -  5\n",
      "--------------1\n",
      "--------------2\n",
      "ID -  uQBtCtk2H2K4iBvL3MrL\n",
      "First Name -  Arif\n",
      "Last Name -  Shaikh\n",
      "Age -  120\n",
      "--------------1\n",
      "--------------2\n",
      "ID -  vTsESaiqLXICAZMM3QW7\n",
      "First Name -  Ruby\n",
      "Last Name -  lu\n",
      "Age -  28\n",
      "--------------1\n",
      "--------------2\n"
     ]
    }
   ],
   "source": [
    "for doc in docs:\n",
    "    print(\"ID - \", doc.id)\n",
    "    \n",
    "    print(\"First Name - \", doc.to_dict().get(\"firstName\"))\n",
    "    print(\"Last Name - \", doc.to_dict().get(\"lastName\"))\n",
    "    print(\"Age - \", doc.to_dict().get(\"age\") )\n",
    "    \n",
    "    print(\"--------------1\")\n",
    "    print(\"--------------2\")"
   ]
  },
  {
   "cell_type": "code",
   "execution_count": 40,
   "metadata": {},
   "outputs": [],
   "source": [
    "def updateDatainFirebase(uid, updatedAge):\n",
    "    doc_ref = db.collection(u'LetsUpgradeUsers').document(uid)\n",
    "    \n",
    "    doc_ref.update({\"age\":updatedAge})"
   ]
  },
  {
   "cell_type": "code",
   "execution_count": 41,
   "metadata": {},
   "outputs": [],
   "source": [
    "\n",
    "updateDatainFirebase(\"uQBtCtk2H2K4iBvL3MrL\",26)"
   ]
  },
  {
   "cell_type": "code",
   "execution_count": 42,
   "metadata": {},
   "outputs": [],
   "source": [
    "def deleteDataInFirebase(uid):\n",
    "    db.collection(u'LetsUpgradeUsers').document(uid).delete()"
   ]
  },
  {
   "cell_type": "code",
   "execution_count": 43,
   "metadata": {},
   "outputs": [],
   "source": [
    "deleteDataInFirebase(\"vTsESaiqLXICAZMM3QW7\")"
   ]
  },
  {
   "cell_type": "code",
   "execution_count": null,
   "metadata": {},
   "outputs": [],
   "source": []
  }
 ],
 "metadata": {
  "kernelspec": {
   "display_name": "Python 3",
   "language": "python",
   "name": "python3"
  },
  "language_info": {
   "codemirror_mode": {
    "name": "ipython",
    "version": 3
   },
   "file_extension": ".py",
   "mimetype": "text/x-python",
   "name": "python",
   "nbconvert_exporter": "python",
   "pygments_lexer": "ipython3",
   "version": "3.8.3"
  }
 },
 "nbformat": 4,
 "nbformat_minor": 4
}
